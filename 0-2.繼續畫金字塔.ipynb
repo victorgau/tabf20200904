{
 "cells": [
  {
   "cell_type": "markdown",
   "metadata": {},
   "source": [
    "## 【練習】\n",
    "\n",
    "請寫一函式，讀入一個整數，輸出整數高度的金字塔。\n",
    "\n",
    "執行： pyramid(3)\n",
    "\n",
    "輸出：\n",
    "\n",
    "      *\n",
    "     ***\n",
    "    *****\n",
    "\n",
    "執行： pyramid(5)\n",
    "\n",
    "輸出：\n",
    "\n",
    "        *\n",
    "       ***\n",
    "      *****\n",
    "     *******\n",
    "    *********"
   ]
  },
  {
   "cell_type": "code",
   "execution_count": null,
   "metadata": {},
   "outputs": [],
   "source": [
    "def pyramid(h):\n",
    "    pass"
   ]
  }
 ],
 "metadata": {
  "kernelspec": {
   "display_name": "Python 3",
   "language": "python",
   "name": "python3"
  },
  "language_info": {
   "codemirror_mode": {
    "name": "ipython",
    "version": 3
   },
   "file_extension": ".py",
   "mimetype": "text/x-python",
   "name": "python",
   "nbconvert_exporter": "python",
   "pygments_lexer": "ipython3",
   "version": "3.8.3"
  }
 },
 "nbformat": 4,
 "nbformat_minor": 4
}
