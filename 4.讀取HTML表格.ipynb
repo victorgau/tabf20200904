{
 "cells": [
  {
   "cell_type": "markdown",
   "metadata": {},
   "source": [
    "# 讀取網頁上的HTML表格"
   ]
  },
  {
   "cell_type": "code",
   "execution_count": 1,
   "metadata": {},
   "outputs": [],
   "source": [
    "import pandas as pd"
   ]
  },
  {
   "cell_type": "code",
   "execution_count": 2,
   "metadata": {},
   "outputs": [],
   "source": [
    "url = 'https://www.pmi.org.tw/?p=5361'"
   ]
  },
  {
   "cell_type": "code",
   "execution_count": 3,
   "metadata": {},
   "outputs": [],
   "source": [
    "df_list = pd.read_html(url)"
   ]
  },
  {
   "cell_type": "code",
   "execution_count": 4,
   "metadata": {},
   "outputs": [
    {
     "data": {
      "text/plain": [
       "list"
      ]
     },
     "execution_count": 4,
     "metadata": {},
     "output_type": "execute_result"
    }
   ],
   "source": [
    "type(df_list)"
   ]
  },
  {
   "cell_type": "code",
   "execution_count": 5,
   "metadata": {},
   "outputs": [
    {
     "data": {
      "text/html": [
       "<div>\n",
       "<style scoped>\n",
       "    .dataframe tbody tr th:only-of-type {\n",
       "        vertical-align: middle;\n",
       "    }\n",
       "\n",
       "    .dataframe tbody tr th {\n",
       "        vertical-align: top;\n",
       "    }\n",
       "\n",
       "    .dataframe thead th {\n",
       "        text-align: right;\n",
       "    }\n",
       "</style>\n",
       "<table border=\"1\" class=\"dataframe\">\n",
       "  <thead>\n",
       "    <tr style=\"text-align: right;\">\n",
       "      <th></th>\n",
       "      <th>參賽類型</th>\n",
       "      <th>參賽單位名稱</th>\n",
       "      <th>獎項</th>\n",
       "    </tr>\n",
       "  </thead>\n",
       "  <tbody>\n",
       "    <tr>\n",
       "      <th>0</th>\n",
       "      <td>大型企業</td>\n",
       "      <td>中華電信股份有限公司臺灣南區電信分公司</td>\n",
       "      <td>標竿企業獎</td>\n",
       "    </tr>\n",
       "    <tr>\n",
       "      <th>1</th>\n",
       "      <td>大型企業</td>\n",
       "      <td>致伸科技股份有限公司</td>\n",
       "      <td>典範企業獎</td>\n",
       "    </tr>\n",
       "    <tr>\n",
       "      <th>2</th>\n",
       "      <td>大型企業</td>\n",
       "      <td>香港商聯寶電腦有限公司台灣分公司</td>\n",
       "      <td>典範企業獎</td>\n",
       "    </tr>\n",
       "    <tr>\n",
       "      <th>3</th>\n",
       "      <td>中小企業</td>\n",
       "      <td>日昇意定科技顧問有限公司</td>\n",
       "      <td>標竿企業獎</td>\n",
       "    </tr>\n",
       "    <tr>\n",
       "      <th>4</th>\n",
       "      <td>中小企業</td>\n",
       "      <td>湯武生技企業有限公司</td>\n",
       "      <td>典範企業獎</td>\n",
       "    </tr>\n",
       "    <tr>\n",
       "      <th>5</th>\n",
       "      <td>中小企業</td>\n",
       "      <td>漢翔航空工業股份有限公司民用飛機專案處</td>\n",
       "      <td>典範企業獎</td>\n",
       "    </tr>\n",
       "    <tr>\n",
       "      <th>6</th>\n",
       "      <td>中小企業</td>\n",
       "      <td>大同永旭能源股份有限公司</td>\n",
       "      <td>優選</td>\n",
       "    </tr>\n",
       "    <tr>\n",
       "      <th>7</th>\n",
       "      <td>中小企業</td>\n",
       "      <td>協科資訊股份有限公司</td>\n",
       "      <td>優選</td>\n",
       "    </tr>\n",
       "    <tr>\n",
       "      <th>8</th>\n",
       "      <td>政府及法人</td>\n",
       "      <td>屏東縣政府</td>\n",
       "      <td>優選</td>\n",
       "    </tr>\n",
       "  </tbody>\n",
       "</table>\n",
       "</div>"
      ],
      "text/plain": [
       "    參賽類型               參賽單位名稱     獎項\n",
       "0   大型企業  中華電信股份有限公司臺灣南區電信分公司  標竿企業獎\n",
       "1   大型企業           致伸科技股份有限公司  典範企業獎\n",
       "2   大型企業     香港商聯寶電腦有限公司台灣分公司  典範企業獎\n",
       "3   中小企業         日昇意定科技顧問有限公司  標竿企業獎\n",
       "4   中小企業           湯武生技企業有限公司  典範企業獎\n",
       "5   中小企業  漢翔航空工業股份有限公司民用飛機專案處  典範企業獎\n",
       "6   中小企業         大同永旭能源股份有限公司     優選\n",
       "7   中小企業           協科資訊股份有限公司     優選\n",
       "8  政府及法人                屏東縣政府     優選"
      ]
     },
     "execution_count": 5,
     "metadata": {},
     "output_type": "execute_result"
    }
   ],
   "source": [
    "df_list[0]"
   ]
  }
 ],
 "metadata": {
  "kernelspec": {
   "display_name": "Python 3",
   "language": "python",
   "name": "python3"
  },
  "language_info": {
   "codemirror_mode": {
    "name": "ipython",
    "version": 3
   },
   "file_extension": ".py",
   "mimetype": "text/x-python",
   "name": "python",
   "nbconvert_exporter": "python",
   "pygments_lexer": "ipython3",
   "version": "3.8.3"
  }
 },
 "nbformat": 4,
 "nbformat_minor": 4
}
