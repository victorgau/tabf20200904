{
 "cells": [
  {
   "cell_type": "markdown",
   "metadata": {
    "colab_type": "text",
    "id": "N2AF8tbYhjfb"
   },
   "source": [
    "## 使用 folium 畫地圖\n",
    "\n",
    "folium 的使用請參考：https://python-visualization.github.io/folium/\n",
    "\n",
    "folium 的亂碼問題：https://github.com/python-visualization/folium/issues/1320"
   ]
  },
  {
   "cell_type": "code",
   "execution_count": null,
   "metadata": {},
   "outputs": [],
   "source": [
    "!pip install git+https://github.com/python-visualization/branca.git@master"
   ]
  },
  {
   "cell_type": "code",
   "execution_count": null,
   "metadata": {
    "colab": {},
    "colab_type": "code",
    "id": "UJsZPTH6f2WQ"
   },
   "outputs": [],
   "source": [
    "# 載入需要的模組\n",
    "import folium"
   ]
  },
  {
   "cell_type": "code",
   "execution_count": null,
   "metadata": {},
   "outputs": [],
   "source": [
    "m = folium.Map(location=[45.5236, -122.6750])"
   ]
  },
  {
   "cell_type": "code",
   "execution_count": null,
   "metadata": {},
   "outputs": [],
   "source": [
    "m"
   ]
  },
  {
   "cell_type": "code",
   "execution_count": null,
   "metadata": {
    "colab": {},
    "colab_type": "code",
    "id": "aKlqzX34gkhO"
   },
   "outputs": [],
   "source": [
    "# 給定城市名稱\n",
    "city = \"高雄市\"\n",
    "\n",
    "# 高雄市的 gps 座標\n",
    "city_gps = [22.6203348, 120.3120375]"
   ]
  },
  {
   "cell_type": "code",
   "execution_count": null,
   "metadata": {
    "colab": {},
    "colab_type": "code",
    "id": "OUeXm2SugF-v"
   },
   "outputs": [],
   "source": [
    "# 用 folium 畫地圖，並放到變數 m 裡面去。\n",
    "m = folium.Map(location=city_gps, zoom_start=16)\n",
    "\n",
    "# 在地圖上的 location 的座標加上一個 Marker。\n",
    "folium.Marker(location=city_gps, popup=city).add_to(m)"
   ]
  },
  {
   "cell_type": "code",
   "execution_count": null,
   "metadata": {
    "colab": {},
    "colab_type": "code",
    "id": "d5WUba5XgVo1"
   },
   "outputs": [],
   "source": [
    "# 顯示出地圖\n",
    "m"
   ]
  }
 ],
 "metadata": {
  "colab": {
   "collapsed_sections": [],
   "name": "使用 folium 畫地圖.ipynb",
   "provenance": []
  },
  "kernelspec": {
   "display_name": "Python 3",
   "language": "python",
   "name": "python3"
  },
  "language_info": {
   "codemirror_mode": {
    "name": "ipython",
    "version": 3
   },
   "file_extension": ".py",
   "mimetype": "text/x-python",
   "name": "python",
   "nbconvert_exporter": "python",
   "pygments_lexer": "ipython3",
   "version": "3.8.3"
  }
 },
 "nbformat": 4,
 "nbformat_minor": 4
}
